{
 "cells": [
  {
   "cell_type": "markdown",
   "metadata": {},
   "source": [
    "# Data exploration TMA 02 Question 2b"
   ]
  },
  {
   "cell_type": "markdown",
   "metadata": {},
   "source": [
    "I start by importing pandas to be able to work with dataframes and matplotlib to plot the data."
   ]
  },
  {
   "cell_type": "code",
   "execution_count": 1,
   "metadata": {},
   "outputs": [],
   "source": [
    "import pandas as pd\n",
    "\n",
    "import matplotlib.pyplot as plt"
   ]
  },
  {
   "cell_type": "markdown",
   "metadata": {},
   "source": [
    "Then I check the Deprivation_Index folder to see the different filenames of the documents."
   ]
  },
  {
   "cell_type": "code",
   "execution_count": 2,
   "metadata": {},
   "outputs": [
    {
     "name": "stdout",
     "output_type": "stream",
     "text": [
      "example2.csv\r\n"
     ]
    }
   ],
   "source": [
    "!ls Data/"
   ]
  },
  {
   "cell_type": "markdown",
   "metadata": {},
   "source": [
    "I decide to work with the examples.csv file, because there is a lot of interesting data in there about education and employment, the two areas I am interested in initally. To be able to analyse and compare the columns that contain the rankings, I removed the commas from the values using Excel, so that pandas sees them as integer. I saved the new csv-file as example2.csv."
   ]
  },
  {
   "cell_type": "markdown",
   "metadata": {},
   "source": [
    "I import the csv-file in a dataframe called df. To see the first five rows of the dataframe, I use head()."
   ]
  },
  {
   "cell_type": "code",
   "execution_count": 3,
   "metadata": {},
   "outputs": [
    {
     "data": {
      "text/html": [
       "<div>\n",
       "<style scoped>\n",
       "    .dataframe tbody tr th:only-of-type {\n",
       "        vertical-align: middle;\n",
       "    }\n",
       "\n",
       "    .dataframe tbody tr th {\n",
       "        vertical-align: top;\n",
       "    }\n",
       "\n",
       "    .dataframe thead th {\n",
       "        text-align: right;\n",
       "    }\n",
       "</style>\n",
       "<table border=\"1\" class=\"dataframe\">\n",
       "  <thead>\n",
       "    <tr style=\"text-align: right;\">\n",
       "      <th></th>\n",
       "      <th>LSOAcode2011</th>\n",
       "      <th>LSOAname2011</th>\n",
       "      <th>LocalAuthorityDistrictcode2013</th>\n",
       "      <th>LocalAuthorityDistrictname2013</th>\n",
       "      <th>IndexofMultipleDeprivationRank</th>\n",
       "      <th>IndexofMultipleDeprivationDecile</th>\n",
       "      <th>IncomeRank</th>\n",
       "      <th>IncomeDecile</th>\n",
       "      <th>EmploymentRank</th>\n",
       "      <th>EmploymentDecile</th>\n",
       "      <th>EducationSkillsandTrainingRank</th>\n",
       "      <th>EducationSkillsandTrainingDecile</th>\n",
       "      <th>HealthDeprivationandDisabilityRank</th>\n",
       "      <th>HealthDeprivationandDisabilityDecile</th>\n",
       "      <th>CrimeRank</th>\n",
       "      <th>CrimeDecile</th>\n",
       "      <th>BarrierstoHousingandServicesRank</th>\n",
       "      <th>BarrierstoHousingandServicesDecile</th>\n",
       "      <th>LivingEnvironmentRank</th>\n",
       "      <th>LivingEnvironmentDecile</th>\n",
       "    </tr>\n",
       "  </thead>\n",
       "  <tbody>\n",
       "    <tr>\n",
       "      <th>0</th>\n",
       "      <td>E01031349</td>\n",
       "      <td>Adur 001A</td>\n",
       "      <td>E07000223</td>\n",
       "      <td>Adur</td>\n",
       "      <td>21352</td>\n",
       "      <td>7</td>\n",
       "      <td>18992</td>\n",
       "      <td>6</td>\n",
       "      <td>19305</td>\n",
       "      <td>6</td>\n",
       "      <td>13727</td>\n",
       "      <td>5</td>\n",
       "      <td>25876</td>\n",
       "      <td>8</td>\n",
       "      <td>12817</td>\n",
       "      <td>4</td>\n",
       "      <td>28166</td>\n",
       "      <td>9</td>\n",
       "      <td>18367</td>\n",
       "      <td>6</td>\n",
       "    </tr>\n",
       "    <tr>\n",
       "      <th>1</th>\n",
       "      <td>E01031350</td>\n",
       "      <td>Adur 001B</td>\n",
       "      <td>E07000223</td>\n",
       "      <td>Adur</td>\n",
       "      <td>8864</td>\n",
       "      <td>3</td>\n",
       "      <td>9233</td>\n",
       "      <td>3</td>\n",
       "      <td>7879</td>\n",
       "      <td>3</td>\n",
       "      <td>6969</td>\n",
       "      <td>3</td>\n",
       "      <td>6883</td>\n",
       "      <td>3</td>\n",
       "      <td>12781</td>\n",
       "      <td>4</td>\n",
       "      <td>11399</td>\n",
       "      <td>4</td>\n",
       "      <td>16242</td>\n",
       "      <td>5</td>\n",
       "    </tr>\n",
       "    <tr>\n",
       "      <th>2</th>\n",
       "      <td>E01031351</td>\n",
       "      <td>Adur 001C</td>\n",
       "      <td>E07000223</td>\n",
       "      <td>Adur</td>\n",
       "      <td>22143</td>\n",
       "      <td>7</td>\n",
       "      <td>24539</td>\n",
       "      <td>8</td>\n",
       "      <td>23389</td>\n",
       "      <td>8</td>\n",
       "      <td>10213</td>\n",
       "      <td>4</td>\n",
       "      <td>24693</td>\n",
       "      <td>8</td>\n",
       "      <td>9112</td>\n",
       "      <td>3</td>\n",
       "      <td>24743</td>\n",
       "      <td>8</td>\n",
       "      <td>22299</td>\n",
       "      <td>7</td>\n",
       "    </tr>\n",
       "    <tr>\n",
       "      <th>3</th>\n",
       "      <td>E01031352</td>\n",
       "      <td>Adur 001D</td>\n",
       "      <td>E07000223</td>\n",
       "      <td>Adur</td>\n",
       "      <td>17252</td>\n",
       "      <td>6</td>\n",
       "      <td>16087</td>\n",
       "      <td>5</td>\n",
       "      <td>13699</td>\n",
       "      <td>5</td>\n",
       "      <td>10468</td>\n",
       "      <td>4</td>\n",
       "      <td>19627</td>\n",
       "      <td>6</td>\n",
       "      <td>16127</td>\n",
       "      <td>5</td>\n",
       "      <td>19559</td>\n",
       "      <td>6</td>\n",
       "      <td>22819</td>\n",
       "      <td>7</td>\n",
       "    </tr>\n",
       "    <tr>\n",
       "      <th>4</th>\n",
       "      <td>E01031370</td>\n",
       "      <td>Adur 001E</td>\n",
       "      <td>E07000223</td>\n",
       "      <td>Adur</td>\n",
       "      <td>15643</td>\n",
       "      <td>5</td>\n",
       "      <td>17918</td>\n",
       "      <td>6</td>\n",
       "      <td>13322</td>\n",
       "      <td>5</td>\n",
       "      <td>7819</td>\n",
       "      <td>3</td>\n",
       "      <td>14893</td>\n",
       "      <td>5</td>\n",
       "      <td>13723</td>\n",
       "      <td>5</td>\n",
       "      <td>22433</td>\n",
       "      <td>7</td>\n",
       "      <td>18191</td>\n",
       "      <td>6</td>\n",
       "    </tr>\n",
       "  </tbody>\n",
       "</table>\n",
       "</div>"
      ],
      "text/plain": [
       "  LSOAcode2011 LSOAname2011 LocalAuthorityDistrictcode2013  \\\n",
       "0    E01031349    Adur 001A                      E07000223   \n",
       "1    E01031350    Adur 001B                      E07000223   \n",
       "2    E01031351    Adur 001C                      E07000223   \n",
       "3    E01031352    Adur 001D                      E07000223   \n",
       "4    E01031370    Adur 001E                      E07000223   \n",
       "\n",
       "  LocalAuthorityDistrictname2013  IndexofMultipleDeprivationRank  \\\n",
       "0                           Adur                           21352   \n",
       "1                           Adur                            8864   \n",
       "2                           Adur                           22143   \n",
       "3                           Adur                           17252   \n",
       "4                           Adur                           15643   \n",
       "\n",
       "   IndexofMultipleDeprivationDecile  IncomeRank  IncomeDecile  EmploymentRank  \\\n",
       "0                                 7       18992             6           19305   \n",
       "1                                 3        9233             3            7879   \n",
       "2                                 7       24539             8           23389   \n",
       "3                                 6       16087             5           13699   \n",
       "4                                 5       17918             6           13322   \n",
       "\n",
       "   EmploymentDecile  EducationSkillsandTrainingRank   \\\n",
       "0                 6                            13727   \n",
       "1                 3                             6969   \n",
       "2                 8                            10213   \n",
       "3                 5                            10468   \n",
       "4                 5                             7819   \n",
       "\n",
       "   EducationSkillsandTrainingDecile  HealthDeprivationandDisabilityRank  \\\n",
       "0                                 5                               25876   \n",
       "1                                 3                                6883   \n",
       "2                                 4                               24693   \n",
       "3                                 4                               19627   \n",
       "4                                 3                               14893   \n",
       "\n",
       "   HealthDeprivationandDisabilityDecile  CrimeRank  CrimeDecile   \\\n",
       "0                                     8      12817             4   \n",
       "1                                     3      12781             4   \n",
       "2                                     8       9112             3   \n",
       "3                                     6      16127             5   \n",
       "4                                     5      13723             5   \n",
       "\n",
       "   BarrierstoHousingandServicesRank   BarrierstoHousingandServicesDecile   \\\n",
       "0                              28166                                    9   \n",
       "1                              11399                                    4   \n",
       "2                              24743                                    8   \n",
       "3                              19559                                    6   \n",
       "4                              22433                                    7   \n",
       "\n",
       "   LivingEnvironmentRank   LivingEnvironmentDecile   \n",
       "0                   18367                         6  \n",
       "1                   16242                         5  \n",
       "2                   22299                         7  \n",
       "3                   22819                         7  \n",
       "4                   18191                         6  "
      ]
     },
     "execution_count": 3,
     "metadata": {},
     "output_type": "execute_result"
    }
   ],
   "source": [
    "furl = 'Data/example2.csv'\n",
    "\n",
    "df = pd.read_csv(furl)\n",
    "df.head()"
   ]
  },
  {
   "cell_type": "markdown",
   "metadata": {},
   "source": [
    "To get a list of all the column names of the dataframe, I use list(). I can use these names later in my analysis."
   ]
  },
  {
   "cell_type": "code",
   "execution_count": 4,
   "metadata": {},
   "outputs": [
    {
     "data": {
      "text/plain": [
       "['LSOAcode2011',\n",
       " 'LSOAname2011',\n",
       " 'LocalAuthorityDistrictcode2013',\n",
       " 'LocalAuthorityDistrictname2013',\n",
       " 'IndexofMultipleDeprivationRank',\n",
       " 'IndexofMultipleDeprivationDecile',\n",
       " 'IncomeRank',\n",
       " 'IncomeDecile',\n",
       " 'EmploymentRank',\n",
       " 'EmploymentDecile',\n",
       " 'EducationSkillsandTrainingRank ',\n",
       " 'EducationSkillsandTrainingDecile',\n",
       " 'HealthDeprivationandDisabilityRank',\n",
       " 'HealthDeprivationandDisabilityDecile',\n",
       " 'CrimeRank',\n",
       " 'CrimeDecile ',\n",
       " 'BarrierstoHousingandServicesRank ',\n",
       " 'BarrierstoHousingandServicesDecile ',\n",
       " 'LivingEnvironmentRank ',\n",
       " 'LivingEnvironmentDecile ']"
      ]
     },
     "execution_count": 4,
     "metadata": {},
     "output_type": "execute_result"
    }
   ],
   "source": [
    "list(df.columns)"
   ]
  },
  {
   "cell_type": "markdown",
   "metadata": {},
   "source": [
    "To get a first indication of the numbers in the dataframe, including the mean, minimum, and maximum value, I use describe()."
   ]
  },
  {
   "cell_type": "code",
   "execution_count": 5,
   "metadata": {},
   "outputs": [
    {
     "data": {
      "text/html": [
       "<div>\n",
       "<style scoped>\n",
       "    .dataframe tbody tr th:only-of-type {\n",
       "        vertical-align: middle;\n",
       "    }\n",
       "\n",
       "    .dataframe tbody tr th {\n",
       "        vertical-align: top;\n",
       "    }\n",
       "\n",
       "    .dataframe thead th {\n",
       "        text-align: right;\n",
       "    }\n",
       "</style>\n",
       "<table border=\"1\" class=\"dataframe\">\n",
       "  <thead>\n",
       "    <tr style=\"text-align: right;\">\n",
       "      <th></th>\n",
       "      <th>IndexofMultipleDeprivationRank</th>\n",
       "      <th>IndexofMultipleDeprivationDecile</th>\n",
       "      <th>IncomeRank</th>\n",
       "      <th>IncomeDecile</th>\n",
       "      <th>EmploymentRank</th>\n",
       "      <th>EmploymentDecile</th>\n",
       "      <th>EducationSkillsandTrainingRank</th>\n",
       "      <th>EducationSkillsandTrainingDecile</th>\n",
       "      <th>HealthDeprivationandDisabilityRank</th>\n",
       "      <th>HealthDeprivationandDisabilityDecile</th>\n",
       "      <th>CrimeRank</th>\n",
       "      <th>CrimeDecile</th>\n",
       "      <th>BarrierstoHousingandServicesRank</th>\n",
       "      <th>BarrierstoHousingandServicesDecile</th>\n",
       "      <th>LivingEnvironmentRank</th>\n",
       "      <th>LivingEnvironmentDecile</th>\n",
       "    </tr>\n",
       "  </thead>\n",
       "  <tbody>\n",
       "    <tr>\n",
       "      <th>count</th>\n",
       "      <td>32844.000000</td>\n",
       "      <td>32844.000000</td>\n",
       "      <td>32844.000000</td>\n",
       "      <td>32844.000000</td>\n",
       "      <td>32844.000000</td>\n",
       "      <td>32844.000000</td>\n",
       "      <td>32844.000000</td>\n",
       "      <td>32844.000000</td>\n",
       "      <td>32844.000000</td>\n",
       "      <td>32844.000000</td>\n",
       "      <td>32844.000000</td>\n",
       "      <td>32844.000000</td>\n",
       "      <td>32844.000000</td>\n",
       "      <td>32844.000000</td>\n",
       "      <td>32844.000000</td>\n",
       "      <td>32844.000000</td>\n",
       "    </tr>\n",
       "    <tr>\n",
       "      <th>mean</th>\n",
       "      <td>16422.499391</td>\n",
       "      <td>5.500122</td>\n",
       "      <td>16422.498660</td>\n",
       "      <td>5.500122</td>\n",
       "      <td>16422.498873</td>\n",
       "      <td>5.500122</td>\n",
       "      <td>16422.499330</td>\n",
       "      <td>5.500122</td>\n",
       "      <td>16422.499726</td>\n",
       "      <td>5.500122</td>\n",
       "      <td>16422.499635</td>\n",
       "      <td>5.500122</td>\n",
       "      <td>16422.499208</td>\n",
       "      <td>5.500122</td>\n",
       "      <td>16422.499574</td>\n",
       "      <td>5.500122</td>\n",
       "    </tr>\n",
       "    <tr>\n",
       "      <th>std</th>\n",
       "      <td>9481.390618</td>\n",
       "      <td>2.872325</td>\n",
       "      <td>9481.390331</td>\n",
       "      <td>2.872325</td>\n",
       "      <td>9481.390246</td>\n",
       "      <td>2.872325</td>\n",
       "      <td>9481.390748</td>\n",
       "      <td>2.872325</td>\n",
       "      <td>9481.390467</td>\n",
       "      <td>2.872325</td>\n",
       "      <td>9481.390606</td>\n",
       "      <td>2.872325</td>\n",
       "      <td>9481.390574</td>\n",
       "      <td>2.872325</td>\n",
       "      <td>9481.390570</td>\n",
       "      <td>2.872325</td>\n",
       "    </tr>\n",
       "    <tr>\n",
       "      <th>min</th>\n",
       "      <td>1.000000</td>\n",
       "      <td>1.000000</td>\n",
       "      <td>1.000000</td>\n",
       "      <td>1.000000</td>\n",
       "      <td>1.000000</td>\n",
       "      <td>1.000000</td>\n",
       "      <td>1.000000</td>\n",
       "      <td>1.000000</td>\n",
       "      <td>1.000000</td>\n",
       "      <td>1.000000</td>\n",
       "      <td>1.000000</td>\n",
       "      <td>1.000000</td>\n",
       "      <td>1.000000</td>\n",
       "      <td>1.000000</td>\n",
       "      <td>1.000000</td>\n",
       "      <td>1.000000</td>\n",
       "    </tr>\n",
       "    <tr>\n",
       "      <th>25%</th>\n",
       "      <td>8211.750000</td>\n",
       "      <td>3.000000</td>\n",
       "      <td>8211.750000</td>\n",
       "      <td>3.000000</td>\n",
       "      <td>8211.750000</td>\n",
       "      <td>3.000000</td>\n",
       "      <td>8211.750000</td>\n",
       "      <td>3.000000</td>\n",
       "      <td>8211.750000</td>\n",
       "      <td>3.000000</td>\n",
       "      <td>8211.750000</td>\n",
       "      <td>3.000000</td>\n",
       "      <td>8211.750000</td>\n",
       "      <td>3.000000</td>\n",
       "      <td>8211.750000</td>\n",
       "      <td>3.000000</td>\n",
       "    </tr>\n",
       "    <tr>\n",
       "      <th>50%</th>\n",
       "      <td>16422.500000</td>\n",
       "      <td>5.500000</td>\n",
       "      <td>16422.500000</td>\n",
       "      <td>5.500000</td>\n",
       "      <td>16422.500000</td>\n",
       "      <td>5.500000</td>\n",
       "      <td>16422.500000</td>\n",
       "      <td>5.500000</td>\n",
       "      <td>16422.500000</td>\n",
       "      <td>5.500000</td>\n",
       "      <td>16422.500000</td>\n",
       "      <td>5.500000</td>\n",
       "      <td>16422.500000</td>\n",
       "      <td>5.500000</td>\n",
       "      <td>16422.500000</td>\n",
       "      <td>5.500000</td>\n",
       "    </tr>\n",
       "    <tr>\n",
       "      <th>75%</th>\n",
       "      <td>24633.250000</td>\n",
       "      <td>8.000000</td>\n",
       "      <td>24633.250000</td>\n",
       "      <td>8.000000</td>\n",
       "      <td>24633.250000</td>\n",
       "      <td>8.000000</td>\n",
       "      <td>24633.250000</td>\n",
       "      <td>8.000000</td>\n",
       "      <td>24633.250000</td>\n",
       "      <td>8.000000</td>\n",
       "      <td>24633.250000</td>\n",
       "      <td>8.000000</td>\n",
       "      <td>24633.250000</td>\n",
       "      <td>8.000000</td>\n",
       "      <td>24633.250000</td>\n",
       "      <td>8.000000</td>\n",
       "    </tr>\n",
       "    <tr>\n",
       "      <th>max</th>\n",
       "      <td>32844.000000</td>\n",
       "      <td>10.000000</td>\n",
       "      <td>32844.000000</td>\n",
       "      <td>10.000000</td>\n",
       "      <td>32844.000000</td>\n",
       "      <td>10.000000</td>\n",
       "      <td>32844.000000</td>\n",
       "      <td>10.000000</td>\n",
       "      <td>32844.000000</td>\n",
       "      <td>10.000000</td>\n",
       "      <td>32844.000000</td>\n",
       "      <td>10.000000</td>\n",
       "      <td>32844.000000</td>\n",
       "      <td>10.000000</td>\n",
       "      <td>32844.000000</td>\n",
       "      <td>10.000000</td>\n",
       "    </tr>\n",
       "  </tbody>\n",
       "</table>\n",
       "</div>"
      ],
      "text/plain": [
       "       IndexofMultipleDeprivationRank  IndexofMultipleDeprivationDecile  \\\n",
       "count                    32844.000000                      32844.000000   \n",
       "mean                     16422.499391                          5.500122   \n",
       "std                       9481.390618                          2.872325   \n",
       "min                          1.000000                          1.000000   \n",
       "25%                       8211.750000                          3.000000   \n",
       "50%                      16422.500000                          5.500000   \n",
       "75%                      24633.250000                          8.000000   \n",
       "max                      32844.000000                         10.000000   \n",
       "\n",
       "         IncomeRank  IncomeDecile  EmploymentRank  EmploymentDecile  \\\n",
       "count  32844.000000  32844.000000    32844.000000      32844.000000   \n",
       "mean   16422.498660      5.500122    16422.498873          5.500122   \n",
       "std     9481.390331      2.872325     9481.390246          2.872325   \n",
       "min        1.000000      1.000000        1.000000          1.000000   \n",
       "25%     8211.750000      3.000000     8211.750000          3.000000   \n",
       "50%    16422.500000      5.500000    16422.500000          5.500000   \n",
       "75%    24633.250000      8.000000    24633.250000          8.000000   \n",
       "max    32844.000000     10.000000    32844.000000         10.000000   \n",
       "\n",
       "       EducationSkillsandTrainingRank   EducationSkillsandTrainingDecile  \\\n",
       "count                     32844.000000                      32844.000000   \n",
       "mean                      16422.499330                          5.500122   \n",
       "std                        9481.390748                          2.872325   \n",
       "min                           1.000000                          1.000000   \n",
       "25%                        8211.750000                          3.000000   \n",
       "50%                       16422.500000                          5.500000   \n",
       "75%                       24633.250000                          8.000000   \n",
       "max                       32844.000000                         10.000000   \n",
       "\n",
       "       HealthDeprivationandDisabilityRank  \\\n",
       "count                        32844.000000   \n",
       "mean                         16422.499726   \n",
       "std                           9481.390467   \n",
       "min                              1.000000   \n",
       "25%                           8211.750000   \n",
       "50%                          16422.500000   \n",
       "75%                          24633.250000   \n",
       "max                          32844.000000   \n",
       "\n",
       "       HealthDeprivationandDisabilityDecile     CrimeRank  CrimeDecile   \\\n",
       "count                          32844.000000  32844.000000  32844.000000   \n",
       "mean                               5.500122  16422.499635      5.500122   \n",
       "std                                2.872325   9481.390606      2.872325   \n",
       "min                                1.000000      1.000000      1.000000   \n",
       "25%                                3.000000   8211.750000      3.000000   \n",
       "50%                                5.500000  16422.500000      5.500000   \n",
       "75%                                8.000000  24633.250000      8.000000   \n",
       "max                               10.000000  32844.000000     10.000000   \n",
       "\n",
       "       BarrierstoHousingandServicesRank   BarrierstoHousingandServicesDecile   \\\n",
       "count                       32844.000000                         32844.000000   \n",
       "mean                        16422.499208                             5.500122   \n",
       "std                          9481.390574                             2.872325   \n",
       "min                             1.000000                             1.000000   \n",
       "25%                          8211.750000                             3.000000   \n",
       "50%                         16422.500000                             5.500000   \n",
       "75%                         24633.250000                             8.000000   \n",
       "max                         32844.000000                            10.000000   \n",
       "\n",
       "       LivingEnvironmentRank   LivingEnvironmentDecile   \n",
       "count            32844.000000              32844.000000  \n",
       "mean             16422.499574                  5.500122  \n",
       "std               9481.390570                  2.872325  \n",
       "min                  1.000000                  1.000000  \n",
       "25%               8211.750000                  3.000000  \n",
       "50%              16422.500000                  5.500000  \n",
       "75%              24633.250000                  8.000000  \n",
       "max              32844.000000                 10.000000  "
      ]
     },
     "execution_count": 5,
     "metadata": {},
     "output_type": "execute_result"
    }
   ],
   "source": [
    "df.describe()"
   ]
  },
  {
   "cell_type": "markdown",
   "metadata": {},
   "source": [
    "These numbers look correct, as there are 32844 small areas in total and 10 deciles."
   ]
  },
  {
   "cell_type": "markdown",
   "metadata": {},
   "source": [
    "# Patterns in the data: national"
   ]
  },
  {
   "cell_type": "markdown",
   "metadata": {},
   "source": [
    "I expect there will be a quite strong correlation between employment and education, so between the columns EmploymentRank and EducationSkillsandTrainingRank and between the columns EmploymentDecile and EducationSkillsandTrainingDecile. I expect this, apart from common sense, because the UK government mentioned in 2014 that the link between education and employment was strenghtening in the UK (source). \n",
    "\n",
    "To see if this is also apparent from the data, I create the dataframe dfEmployment. It includes only the small areas in the worst three employment deciles. I use head() to see the first five rows of the dataframe."
   ]
  },
  {
   "cell_type": "code",
   "execution_count": 6,
   "metadata": {},
   "outputs": [
    {
     "data": {
      "text/html": [
       "<div>\n",
       "<style scoped>\n",
       "    .dataframe tbody tr th:only-of-type {\n",
       "        vertical-align: middle;\n",
       "    }\n",
       "\n",
       "    .dataframe tbody tr th {\n",
       "        vertical-align: top;\n",
       "    }\n",
       "\n",
       "    .dataframe thead th {\n",
       "        text-align: right;\n",
       "    }\n",
       "</style>\n",
       "<table border=\"1\" class=\"dataframe\">\n",
       "  <thead>\n",
       "    <tr style=\"text-align: right;\">\n",
       "      <th></th>\n",
       "      <th>LSOAcode2011</th>\n",
       "      <th>LSOAname2011</th>\n",
       "      <th>LocalAuthorityDistrictcode2013</th>\n",
       "      <th>LocalAuthorityDistrictname2013</th>\n",
       "      <th>IndexofMultipleDeprivationRank</th>\n",
       "      <th>IndexofMultipleDeprivationDecile</th>\n",
       "      <th>IncomeRank</th>\n",
       "      <th>IncomeDecile</th>\n",
       "      <th>EmploymentRank</th>\n",
       "      <th>EmploymentDecile</th>\n",
       "      <th>EducationSkillsandTrainingRank</th>\n",
       "      <th>EducationSkillsandTrainingDecile</th>\n",
       "      <th>HealthDeprivationandDisabilityRank</th>\n",
       "      <th>HealthDeprivationandDisabilityDecile</th>\n",
       "      <th>CrimeRank</th>\n",
       "      <th>CrimeDecile</th>\n",
       "      <th>BarrierstoHousingandServicesRank</th>\n",
       "      <th>BarrierstoHousingandServicesDecile</th>\n",
       "      <th>LivingEnvironmentRank</th>\n",
       "      <th>LivingEnvironmentDecile</th>\n",
       "    </tr>\n",
       "  </thead>\n",
       "  <tbody>\n",
       "    <tr>\n",
       "      <th>1</th>\n",
       "      <td>E01031350</td>\n",
       "      <td>Adur 001B</td>\n",
       "      <td>E07000223</td>\n",
       "      <td>Adur</td>\n",
       "      <td>8864</td>\n",
       "      <td>3</td>\n",
       "      <td>9233</td>\n",
       "      <td>3</td>\n",
       "      <td>7879</td>\n",
       "      <td>3</td>\n",
       "      <td>6969</td>\n",
       "      <td>3</td>\n",
       "      <td>6883</td>\n",
       "      <td>3</td>\n",
       "      <td>12781</td>\n",
       "      <td>4</td>\n",
       "      <td>11399</td>\n",
       "      <td>4</td>\n",
       "      <td>16242</td>\n",
       "      <td>5</td>\n",
       "    </tr>\n",
       "    <tr>\n",
       "      <th>16</th>\n",
       "      <td>E01031347</td>\n",
       "      <td>Adur 004A</td>\n",
       "      <td>E07000223</td>\n",
       "      <td>Adur</td>\n",
       "      <td>8184</td>\n",
       "      <td>3</td>\n",
       "      <td>6403</td>\n",
       "      <td>2</td>\n",
       "      <td>8391</td>\n",
       "      <td>3</td>\n",
       "      <td>5156</td>\n",
       "      <td>2</td>\n",
       "      <td>9807</td>\n",
       "      <td>3</td>\n",
       "      <td>10509</td>\n",
       "      <td>4</td>\n",
       "      <td>17114</td>\n",
       "      <td>6</td>\n",
       "      <td>11938</td>\n",
       "      <td>4</td>\n",
       "    </tr>\n",
       "    <tr>\n",
       "      <th>17</th>\n",
       "      <td>E01031348</td>\n",
       "      <td>Adur 004B</td>\n",
       "      <td>E07000223</td>\n",
       "      <td>Adur</td>\n",
       "      <td>5675</td>\n",
       "      <td>2</td>\n",
       "      <td>5998</td>\n",
       "      <td>2</td>\n",
       "      <td>7003</td>\n",
       "      <td>3</td>\n",
       "      <td>3713</td>\n",
       "      <td>2</td>\n",
       "      <td>6763</td>\n",
       "      <td>3</td>\n",
       "      <td>6131</td>\n",
       "      <td>2</td>\n",
       "      <td>9248</td>\n",
       "      <td>3</td>\n",
       "      <td>9147</td>\n",
       "      <td>3</td>\n",
       "    </tr>\n",
       "    <tr>\n",
       "      <th>18</th>\n",
       "      <td>E01031366</td>\n",
       "      <td>Adur 004C</td>\n",
       "      <td>E07000223</td>\n",
       "      <td>Adur</td>\n",
       "      <td>8423</td>\n",
       "      <td>3</td>\n",
       "      <td>9677</td>\n",
       "      <td>3</td>\n",
       "      <td>8833</td>\n",
       "      <td>3</td>\n",
       "      <td>3833</td>\n",
       "      <td>2</td>\n",
       "      <td>7584</td>\n",
       "      <td>3</td>\n",
       "      <td>7379</td>\n",
       "      <td>3</td>\n",
       "      <td>18378</td>\n",
       "      <td>6</td>\n",
       "      <td>14679</td>\n",
       "      <td>5</td>\n",
       "    </tr>\n",
       "    <tr>\n",
       "      <th>19</th>\n",
       "      <td>E01031371</td>\n",
       "      <td>Adur 004D</td>\n",
       "      <td>E07000223</td>\n",
       "      <td>Adur</td>\n",
       "      <td>6060</td>\n",
       "      <td>2</td>\n",
       "      <td>6735</td>\n",
       "      <td>3</td>\n",
       "      <td>5896</td>\n",
       "      <td>2</td>\n",
       "      <td>2202</td>\n",
       "      <td>1</td>\n",
       "      <td>5996</td>\n",
       "      <td>2</td>\n",
       "      <td>10491</td>\n",
       "      <td>4</td>\n",
       "      <td>12893</td>\n",
       "      <td>4</td>\n",
       "      <td>17325</td>\n",
       "      <td>6</td>\n",
       "    </tr>\n",
       "  </tbody>\n",
       "</table>\n",
       "</div>"
      ],
      "text/plain": [
       "   LSOAcode2011 LSOAname2011 LocalAuthorityDistrictcode2013  \\\n",
       "1     E01031350    Adur 001B                      E07000223   \n",
       "16    E01031347    Adur 004A                      E07000223   \n",
       "17    E01031348    Adur 004B                      E07000223   \n",
       "18    E01031366    Adur 004C                      E07000223   \n",
       "19    E01031371    Adur 004D                      E07000223   \n",
       "\n",
       "   LocalAuthorityDistrictname2013  IndexofMultipleDeprivationRank  \\\n",
       "1                            Adur                            8864   \n",
       "16                           Adur                            8184   \n",
       "17                           Adur                            5675   \n",
       "18                           Adur                            8423   \n",
       "19                           Adur                            6060   \n",
       "\n",
       "    IndexofMultipleDeprivationDecile  IncomeRank  IncomeDecile  \\\n",
       "1                                  3        9233             3   \n",
       "16                                 3        6403             2   \n",
       "17                                 2        5998             2   \n",
       "18                                 3        9677             3   \n",
       "19                                 2        6735             3   \n",
       "\n",
       "    EmploymentRank  EmploymentDecile  EducationSkillsandTrainingRank   \\\n",
       "1             7879                 3                             6969   \n",
       "16            8391                 3                             5156   \n",
       "17            7003                 3                             3713   \n",
       "18            8833                 3                             3833   \n",
       "19            5896                 2                             2202   \n",
       "\n",
       "    EducationSkillsandTrainingDecile  HealthDeprivationandDisabilityRank  \\\n",
       "1                                  3                                6883   \n",
       "16                                 2                                9807   \n",
       "17                                 2                                6763   \n",
       "18                                 2                                7584   \n",
       "19                                 1                                5996   \n",
       "\n",
       "    HealthDeprivationandDisabilityDecile  CrimeRank  CrimeDecile   \\\n",
       "1                                      3      12781             4   \n",
       "16                                     3      10509             4   \n",
       "17                                     3       6131             2   \n",
       "18                                     3       7379             3   \n",
       "19                                     2      10491             4   \n",
       "\n",
       "    BarrierstoHousingandServicesRank   BarrierstoHousingandServicesDecile   \\\n",
       "1                               11399                                    4   \n",
       "16                              17114                                    6   \n",
       "17                               9248                                    3   \n",
       "18                              18378                                    6   \n",
       "19                              12893                                    4   \n",
       "\n",
       "    LivingEnvironmentRank   LivingEnvironmentDecile   \n",
       "1                    16242                         5  \n",
       "16                   11938                         4  \n",
       "17                    9147                         3  \n",
       "18                   14679                         5  \n",
       "19                   17325                         6  "
      ]
     },
     "execution_count": 6,
     "metadata": {},
     "output_type": "execute_result"
    }
   ],
   "source": [
    "dfEmployment = df[df.EmploymentDecile<4]\n",
    "\n",
    "dfEmployment.head()"
   ]
  },
  {
   "cell_type": "markdown",
   "metadata": {},
   "source": [
    "I use describe() again to get a first indication of the numbers in the dataframe."
   ]
  },
  {
   "cell_type": "code",
   "execution_count": 7,
   "metadata": {},
   "outputs": [
    {
     "data": {
      "text/html": [
       "<div>\n",
       "<style scoped>\n",
       "    .dataframe tbody tr th:only-of-type {\n",
       "        vertical-align: middle;\n",
       "    }\n",
       "\n",
       "    .dataframe tbody tr th {\n",
       "        vertical-align: top;\n",
       "    }\n",
       "\n",
       "    .dataframe thead th {\n",
       "        text-align: right;\n",
       "    }\n",
       "</style>\n",
       "<table border=\"1\" class=\"dataframe\">\n",
       "  <thead>\n",
       "    <tr style=\"text-align: right;\">\n",
       "      <th></th>\n",
       "      <th>IndexofMultipleDeprivationRank</th>\n",
       "      <th>IndexofMultipleDeprivationDecile</th>\n",
       "      <th>IncomeRank</th>\n",
       "      <th>IncomeDecile</th>\n",
       "      <th>EmploymentRank</th>\n",
       "      <th>EmploymentDecile</th>\n",
       "      <th>EducationSkillsandTrainingRank</th>\n",
       "      <th>EducationSkillsandTrainingDecile</th>\n",
       "      <th>HealthDeprivationandDisabilityRank</th>\n",
       "      <th>HealthDeprivationandDisabilityDecile</th>\n",
       "      <th>CrimeRank</th>\n",
       "      <th>CrimeDecile</th>\n",
       "      <th>BarrierstoHousingandServicesRank</th>\n",
       "      <th>BarrierstoHousingandServicesDecile</th>\n",
       "      <th>LivingEnvironmentRank</th>\n",
       "      <th>LivingEnvironmentDecile</th>\n",
       "    </tr>\n",
       "  </thead>\n",
       "  <tbody>\n",
       "    <tr>\n",
       "      <th>count</th>\n",
       "      <td>9853.00000</td>\n",
       "      <td>9853.000000</td>\n",
       "      <td>9853.000000</td>\n",
       "      <td>9853.000000</td>\n",
       "      <td>9853.000000</td>\n",
       "      <td>9853.000000</td>\n",
       "      <td>9853.000000</td>\n",
       "      <td>9853.000000</td>\n",
       "      <td>9853.000000</td>\n",
       "      <td>9853.000000</td>\n",
       "      <td>9853.000000</td>\n",
       "      <td>9853.000000</td>\n",
       "      <td>9853.000000</td>\n",
       "      <td>9853.000000</td>\n",
       "      <td>9853.000000</td>\n",
       "      <td>9853.000000</td>\n",
       "    </tr>\n",
       "    <tr>\n",
       "      <th>mean</th>\n",
       "      <td>5363.01157</td>\n",
       "      <td>2.161981</td>\n",
       "      <td>5333.999188</td>\n",
       "      <td>2.152339</td>\n",
       "      <td>4926.999290</td>\n",
       "      <td>2.000101</td>\n",
       "      <td>6628.079367</td>\n",
       "      <td>2.549071</td>\n",
       "      <td>5965.706790</td>\n",
       "      <td>2.344565</td>\n",
       "      <td>9364.296052</td>\n",
       "      <td>3.370852</td>\n",
       "      <td>15281.146859</td>\n",
       "      <td>5.157110</td>\n",
       "      <td>13594.003045</td>\n",
       "      <td>4.647011</td>\n",
       "    </tr>\n",
       "    <tr>\n",
       "      <th>std</th>\n",
       "      <td>3512.99666</td>\n",
       "      <td>1.067717</td>\n",
       "      <td>3502.738609</td>\n",
       "      <td>1.064998</td>\n",
       "      <td>2844.460361</td>\n",
       "      <td>0.816559</td>\n",
       "      <td>5316.113904</td>\n",
       "      <td>1.613783</td>\n",
       "      <td>4290.743832</td>\n",
       "      <td>1.298958</td>\n",
       "      <td>7146.122367</td>\n",
       "      <td>2.165759</td>\n",
       "      <td>9230.760837</td>\n",
       "      <td>2.806176</td>\n",
       "      <td>8948.020309</td>\n",
       "      <td>2.712176</td>\n",
       "    </tr>\n",
       "    <tr>\n",
       "      <th>min</th>\n",
       "      <td>1.00000</td>\n",
       "      <td>1.000000</td>\n",
       "      <td>1.000000</td>\n",
       "      <td>1.000000</td>\n",
       "      <td>1.000000</td>\n",
       "      <td>1.000000</td>\n",
       "      <td>1.000000</td>\n",
       "      <td>1.000000</td>\n",
       "      <td>1.000000</td>\n",
       "      <td>1.000000</td>\n",
       "      <td>1.000000</td>\n",
       "      <td>1.000000</td>\n",
       "      <td>3.000000</td>\n",
       "      <td>1.000000</td>\n",
       "      <td>2.000000</td>\n",
       "      <td>1.000000</td>\n",
       "    </tr>\n",
       "    <tr>\n",
       "      <th>25%</th>\n",
       "      <td>2464.00000</td>\n",
       "      <td>1.000000</td>\n",
       "      <td>2464.000000</td>\n",
       "      <td>1.000000</td>\n",
       "      <td>2464.000000</td>\n",
       "      <td>1.000000</td>\n",
       "      <td>2531.000000</td>\n",
       "      <td>1.000000</td>\n",
       "      <td>2529.000000</td>\n",
       "      <td>1.000000</td>\n",
       "      <td>3474.000000</td>\n",
       "      <td>2.000000</td>\n",
       "      <td>7200.000000</td>\n",
       "      <td>3.000000</td>\n",
       "      <td>5909.000000</td>\n",
       "      <td>2.000000</td>\n",
       "    </tr>\n",
       "    <tr>\n",
       "      <th>50%</th>\n",
       "      <td>4959.00000</td>\n",
       "      <td>2.000000</td>\n",
       "      <td>4943.000000</td>\n",
       "      <td>2.000000</td>\n",
       "      <td>4927.000000</td>\n",
       "      <td>2.000000</td>\n",
       "      <td>5386.000000</td>\n",
       "      <td>2.000000</td>\n",
       "      <td>5225.000000</td>\n",
       "      <td>2.000000</td>\n",
       "      <td>7820.000000</td>\n",
       "      <td>3.000000</td>\n",
       "      <td>15050.000000</td>\n",
       "      <td>5.000000</td>\n",
       "      <td>12442.000000</td>\n",
       "      <td>4.000000</td>\n",
       "    </tr>\n",
       "    <tr>\n",
       "      <th>75%</th>\n",
       "      <td>7813.00000</td>\n",
       "      <td>3.000000</td>\n",
       "      <td>7743.000000</td>\n",
       "      <td>3.000000</td>\n",
       "      <td>7390.000000</td>\n",
       "      <td>3.000000</td>\n",
       "      <td>9419.000000</td>\n",
       "      <td>3.000000</td>\n",
       "      <td>8590.000000</td>\n",
       "      <td>3.000000</td>\n",
       "      <td>13822.000000</td>\n",
       "      <td>5.000000</td>\n",
       "      <td>23011.000000</td>\n",
       "      <td>8.000000</td>\n",
       "      <td>20628.000000</td>\n",
       "      <td>7.000000</td>\n",
       "    </tr>\n",
       "    <tr>\n",
       "      <th>max</th>\n",
       "      <td>19298.00000</td>\n",
       "      <td>6.000000</td>\n",
       "      <td>24256.000000</td>\n",
       "      <td>8.000000</td>\n",
       "      <td>9853.000000</td>\n",
       "      <td>3.000000</td>\n",
       "      <td>31669.000000</td>\n",
       "      <td>10.000000</td>\n",
       "      <td>29652.000000</td>\n",
       "      <td>10.000000</td>\n",
       "      <td>32309.000000</td>\n",
       "      <td>10.000000</td>\n",
       "      <td>32833.000000</td>\n",
       "      <td>10.000000</td>\n",
       "      <td>32835.000000</td>\n",
       "      <td>10.000000</td>\n",
       "    </tr>\n",
       "  </tbody>\n",
       "</table>\n",
       "</div>"
      ],
      "text/plain": [
       "       IndexofMultipleDeprivationRank  IndexofMultipleDeprivationDecile  \\\n",
       "count                      9853.00000                       9853.000000   \n",
       "mean                       5363.01157                          2.161981   \n",
       "std                        3512.99666                          1.067717   \n",
       "min                           1.00000                          1.000000   \n",
       "25%                        2464.00000                          1.000000   \n",
       "50%                        4959.00000                          2.000000   \n",
       "75%                        7813.00000                          3.000000   \n",
       "max                       19298.00000                          6.000000   \n",
       "\n",
       "         IncomeRank  IncomeDecile  EmploymentRank  EmploymentDecile  \\\n",
       "count   9853.000000   9853.000000     9853.000000       9853.000000   \n",
       "mean    5333.999188      2.152339     4926.999290          2.000101   \n",
       "std     3502.738609      1.064998     2844.460361          0.816559   \n",
       "min        1.000000      1.000000        1.000000          1.000000   \n",
       "25%     2464.000000      1.000000     2464.000000          1.000000   \n",
       "50%     4943.000000      2.000000     4927.000000          2.000000   \n",
       "75%     7743.000000      3.000000     7390.000000          3.000000   \n",
       "max    24256.000000      8.000000     9853.000000          3.000000   \n",
       "\n",
       "       EducationSkillsandTrainingRank   EducationSkillsandTrainingDecile  \\\n",
       "count                      9853.000000                       9853.000000   \n",
       "mean                       6628.079367                          2.549071   \n",
       "std                        5316.113904                          1.613783   \n",
       "min                           1.000000                          1.000000   \n",
       "25%                        2531.000000                          1.000000   \n",
       "50%                        5386.000000                          2.000000   \n",
       "75%                        9419.000000                          3.000000   \n",
       "max                       31669.000000                         10.000000   \n",
       "\n",
       "       HealthDeprivationandDisabilityRank  \\\n",
       "count                         9853.000000   \n",
       "mean                          5965.706790   \n",
       "std                           4290.743832   \n",
       "min                              1.000000   \n",
       "25%                           2529.000000   \n",
       "50%                           5225.000000   \n",
       "75%                           8590.000000   \n",
       "max                          29652.000000   \n",
       "\n",
       "       HealthDeprivationandDisabilityDecile     CrimeRank  CrimeDecile   \\\n",
       "count                           9853.000000   9853.000000   9853.000000   \n",
       "mean                               2.344565   9364.296052      3.370852   \n",
       "std                                1.298958   7146.122367      2.165759   \n",
       "min                                1.000000      1.000000      1.000000   \n",
       "25%                                1.000000   3474.000000      2.000000   \n",
       "50%                                2.000000   7820.000000      3.000000   \n",
       "75%                                3.000000  13822.000000      5.000000   \n",
       "max                               10.000000  32309.000000     10.000000   \n",
       "\n",
       "       BarrierstoHousingandServicesRank   BarrierstoHousingandServicesDecile   \\\n",
       "count                        9853.000000                          9853.000000   \n",
       "mean                        15281.146859                             5.157110   \n",
       "std                          9230.760837                             2.806176   \n",
       "min                             3.000000                             1.000000   \n",
       "25%                          7200.000000                             3.000000   \n",
       "50%                         15050.000000                             5.000000   \n",
       "75%                         23011.000000                             8.000000   \n",
       "max                         32833.000000                            10.000000   \n",
       "\n",
       "       LivingEnvironmentRank   LivingEnvironmentDecile   \n",
       "count             9853.000000               9853.000000  \n",
       "mean             13594.003045                  4.647011  \n",
       "std               8948.020309                  2.712176  \n",
       "min                  2.000000                  1.000000  \n",
       "25%               5909.000000                  2.000000  \n",
       "50%              12442.000000                  4.000000  \n",
       "75%              20628.000000                  7.000000  \n",
       "max              32835.000000                 10.000000  "
      ]
     },
     "execution_count": 7,
     "metadata": {},
     "output_type": "execute_result"
    }
   ],
   "source": [
    "dfEmployment.describe()"
   ]
  },
  {
   "cell_type": "markdown",
   "metadata": {},
   "source": [
    "The EducationSkillsandTrainingDecile mean of all the small areas that belong to the three worst employment deciles is 2.549071. This is only 0.55 higher than the EmploymentDecile mean and therefore a first indication that both columns are correlated."
   ]
  },
  {
   "cell_type": "markdown",
   "metadata": {},
   "source": [
    "To visualise the correlation, I create a bar chart using .plot(kind='bar')"
   ]
  },
  {
   "cell_type": "code",
   "execution_count": 8,
   "metadata": {},
   "outputs": [
    {
     "data": {
      "image/png": "[encoded data removed]",
      "text/plain": [
       "<Figure size 432x288 with 1 Axes>"
      ]
     },
     "metadata": {
      "needs_background": "light"
     },
     "output_type": "display_data"
    }
   ],
   "source": [
    "dfEmployment.groupby('EducationSkillsandTrainingDecile')['EducationSkillsandTrainingRank '].nunique().plot(kind='bar')\n",
    "plt.xlabel('Education, skills and training decile')\n",
    "plt.show()"
   ]
  },
  {
   "cell_type": "markdown",
   "metadata": {},
   "source": [
    "The chart shows that most small areas that belong to the three most Employment deprived deciles also belong to the three most Education deprived deciles."
   ]
  },
  {
   "cell_type": "markdown",
   "metadata": {},
   "source": [
    "To confirm the correlation between Education and Employment, we can also look at the rankings. I therefore create a scatter graph to compare EducationSkillsandTrainingRank and EmploymentRank. I expect that an area with a high rank in Education also has a high rank in Employment."
   ]
  },
  {
   "cell_type": "code",
   "execution_count": 9,
   "metadata": {},
   "outputs": [
    {
     "data": {
      "text/plain": [
       "Text(0, 0.5, 'Employment rank')"
      ]
     },
     "execution_count": 9,
     "metadata": {},
     "output_type": "execute_result"
    },
    {
     "data": {
      "image/png": "[encoded data removed]",
      "text/plain": [
       "<Figure size 720x720 with 1 Axes>"
      ]
     },
     "metadata": {
      "needs_background": "light"
     },
     "output_type": "display_data"
    }
   ],
   "source": [
    "ax2 = df.plot.scatter(x='EducationSkillsandTrainingRank ', y='EmploymentRank', c='DarkBlue', figsize=(10, 10))\n",
    "plt.xlabel('Education, skills and training rank')\n",
    "plt.ylabel('Employment rank')"
   ]
  },
  {
   "cell_type": "markdown",
   "metadata": {},
   "source": [
    "The chart confirms that there is a correlation, although it is a bit widespread. To test how strong the correlation is, I can perform a statistical test. A suitable test for this correlation is Pearson’s R2. I therefore import the test in Python so I can use it."
   ]
  },
  {
   "cell_type": "code",
   "execution_count": 10,
   "metadata": {},
   "outputs": [],
   "source": [
    "import scipy\n",
    "from scipy.stats.stats import pearsonr"
   ]
  },
  {
   "cell_type": "markdown",
   "metadata": {},
   "source": [
    "Then I perform the test with the columns EducationSkillsandTrainingRank and EmploymnetRank."
   ]
  },
  {
   "cell_type": "code",
   "execution_count": 11,
   "metadata": {},
   "outputs": [
    {
     "data": {
      "text/plain": [
       "(0.825013066391737, 0.0)"
      ]
     },
     "execution_count": 11,
     "metadata": {},
     "output_type": "execute_result"
    }
   ],
   "source": [
    "x = df['EducationSkillsandTrainingRank ']\n",
    "y = df['EmploymentRank']\n",
    "scipy.stats.pearsonr(x, y)"
   ]
  },
  {
   "cell_type": "markdown",
   "metadata": {},
   "source": [
    "The relationship between two variables is generally considered strong when their r value is larger than 0.7 (source), so we can call this a strong correlation."
   ]
  },
  {
   "cell_type": "markdown",
   "metadata": {},
   "source": [
    "# Patterns in the data: local"
   ]
  },
  {
   "cell_type": "markdown",
   "metadata": {},
   "source": [
    "To see if this correlation between education and employment holds on the local level, I will compare three local authority districts. I choose the more rural county Durham (57% of its area is classified as rural) and the big city Manchester. I will use the same methods:"
   ]
  },
  {
   "cell_type": "code",
   "execution_count": null,
   "metadata": {},
   "outputs": [],
   "source": [
    "dfDurham = df.query('LocalAuthorityDistrictname2013 == \"County Durham\"')\n",
    "dfDurham.describe()"
   ]
  },
  {
   "cell_type": "code",
   "execution_count": null,
   "metadata": {},
   "outputs": [],
   "source": [
    "dfDurham.groupby('EmploymentDecile')['EducationSkillsandTrainingRank '].nunique().plot(kind='bar')\n",
    "plt.show()"
   ]
  },
  {
   "cell_type": "code",
   "execution_count": null,
   "metadata": {},
   "outputs": [],
   "source": [
    "ax3 = dfDurham.plot.scatter(x='EducationSkillsandTrainingRank ', y='EmploymentRank', figsize=(10, 10))\n",
    "plt.xlabel('Education, skills and training rank')\n",
    "plt.ylabel('Employment rank')"
   ]
  },
  {
   "cell_type": "markdown",
   "metadata": {},
   "source": [
    "The correlation between employment and education seems even stronger in the 324 small areas in Durham than on national level. To see if that is true, I perform Pearson's statistical test."
   ]
  },
  {
   "cell_type": "code",
   "execution_count": null,
   "metadata": {},
   "outputs": [],
   "source": [
    "x = dfDurham['EducationSkillsandTrainingRank ']\n",
    "y = dfDurham['EmploymentRank']\n",
    "scipy.stats.pearsonr(x, y)"
   ]
  },
  {
   "cell_type": "markdown",
   "metadata": {},
   "source": [
    "Therefore, the link between education and employment in Durham (0.905) is clearly stronger than the average (0.825) in England. Now I do the same for Manchester, the second largest city in the UK."
   ]
  },
  {
   "cell_type": "code",
   "execution_count": null,
   "metadata": {},
   "outputs": [],
   "source": [
    "dfManchester = df.query('LocalAuthorityDistrictname2013 == \"Manchester\"')\n",
    "dfManchester.describe()"
   ]
  },
  {
   "cell_type": "code",
   "execution_count": null,
   "metadata": {},
   "outputs": [],
   "source": [
    "dfManchester.groupby('EmploymentDecile')['EducationSkillsandTrainingRank '].nunique().plot(kind='bar')\n",
    "plt.show()\n"
   ]
  },
  {
   "cell_type": "code",
   "execution_count": null,
   "metadata": {},
   "outputs": [],
   "source": [
    "ax4 = dfManchester.plot.scatter(x='EducationSkillsandTrainingRank ', y='EmploymentRank', figsize=(10, 10))\n",
    "plt.xlabel('Education, skills and training rank')\n",
    "plt.ylabel('Employment rank')"
   ]
  },
  {
   "cell_type": "markdown",
   "metadata": {},
   "source": [
    "Especially the scatter plot shows clearly that the correlation in Manchester between education and employment is not as strong as in Durham or the national average. I use Pearson's test again to see if that is correct."
   ]
  },
  {
   "cell_type": "code",
   "execution_count": null,
   "metadata": {},
   "outputs": [],
   "source": [
    "x = dfManchester['EducationSkillsandTrainingRank ']\n",
    "y = dfManchester['EmploymentRank']\n",
    "scipy.stats.pearsonr(x, y)"
   ]
  },
  {
   "cell_type": "markdown",
   "metadata": {},
   "source": [
    "There is still a (moderate) correlation, but clearly not as strong as in Durham and also weaker than the national average. "
   ]
  },
  {
   "cell_type": "markdown",
   "metadata": {},
   "source": [
    "It may be interesting to look at some outliers in Manchester to discover maybe one of the reasons for the weaker correlation."
   ]
  },
  {
   "cell_type": "code",
   "execution_count": null,
   "metadata": {},
   "outputs": [],
   "source": [
    "dfManchester.query('EducationSkillsandTrainingDecile < 4 & EmploymentDecile > 8')"
   ]
  },
  {
   "cell_type": "markdown",
   "metadata": {},
   "source": [
    "LSOA Manchester 055A stands for post code area M1 3HB, which is in the city centre. According to Postcodearea.co.uk, 62.5% of the working population is student. This is probably the reason that this area is in EducationSkillsandTrainingDecile 2: the students have not finished their education yet and are considered 'low educated'. At the other hand, 46% of the workforce in M1 3HB consists of managers, directors and professionals (national average is 30%), which is probably why this area is in the highest EmploymentDecile 10. \n",
    "\n",
    "It takes only a quick look at the other two areas, Manchester 055C and Manchester 060D, to see that these areas are also part the city centre and also have a lot of students (76% and 36%).\n",
    "\n",
    "This minor 'student effect' can likely be seen in other major cities as well."
   ]
  },
  {
   "cell_type": "markdown",
   "metadata": {},
   "source": [
    "The following three Pearson's tests (of Birmingham, Liverpool and Westminster) show that there may be a link between cities and a weaker correlation between education and employment. The average r is, including Manchester, 0.753. Because this is a small sample size, no conclusions can be drawn."
   ]
  },
  {
   "cell_type": "code",
   "execution_count": null,
   "metadata": {},
   "outputs": [],
   "source": [
    "dfBirmingham = df.query('LocalAuthorityDistrictname2013 == \"Birmingham\"')\n",
    "x = dfBirmingham['EducationSkillsandTrainingRank ']\n",
    "y = dfBirmingham['EmploymentRank']\n",
    "scipy.stats.pearsonr(x, y)"
   ]
  },
  {
   "cell_type": "code",
   "execution_count": null,
   "metadata": {},
   "outputs": [],
   "source": [
    "dfLiverpool = df.query('LocalAuthorityDistrictname2013 == \"Liverpool\"')\n",
    "x = dfLiverpool['EducationSkillsandTrainingRank ']\n",
    "y = dfLiverpool['EmploymentRank']\n",
    "scipy.stats.pearsonr(x, y)"
   ]
  },
  {
   "cell_type": "code",
   "execution_count": null,
   "metadata": {},
   "outputs": [],
   "source": [
    "dfWestminster = df.query('LocalAuthorityDistrictname2013 == \"Westminster\"')\n",
    "x = dfWestminster['EducationSkillsandTrainingRank ']\n",
    "y = dfWestminster['EmploymentRank']\n",
    "scipy.stats.pearsonr(x, y)"
   ]
  },
  {
   "cell_type": "markdown",
   "metadata": {},
   "source": [
    "As check, I want to see what the scatter plot of Westminster looks like."
   ]
  },
  {
   "cell_type": "code",
   "execution_count": null,
   "metadata": {},
   "outputs": [],
   "source": [
    "ax5 = dfWestminster.plot.scatter(x='EducationSkillsandTrainingRank ', y='EmploymentRank', figsize=(10, 10))"
   ]
  },
  {
   "cell_type": "markdown",
   "metadata": {},
   "source": [
    "These three Pearson's tests (of Shropshire, West Lancashire and Cheshire East) show that there may be a link between rural areas and a stronger correlation between education and employment. The average r, including County Durham, is 0.753. But again, because of the small sample size, no conclusions can be drawn."
   ]
  },
  {
   "cell_type": "code",
   "execution_count": null,
   "metadata": {},
   "outputs": [],
   "source": [
    "dfShropshire = df.query('LocalAuthorityDistrictname2013 == \"Shropshire\"')\n",
    "x = dfShropshire['EducationSkillsandTrainingRank ']\n",
    "y = dfShropshire['EmploymentRank']\n",
    "scipy.stats.pearsonr(x, y)"
   ]
  },
  {
   "cell_type": "code",
   "execution_count": null,
   "metadata": {},
   "outputs": [],
   "source": [
    "dfLancashire = df.query('LocalAuthorityDistrictname2013 == \"West Lancashire\"')\n",
    "x = dfLancashire['EducationSkillsandTrainingRank ']\n",
    "y = dfLancashire['EmploymentRank']\n",
    "scipy.stats.pearsonr(x, y)"
   ]
  },
  {
   "cell_type": "code",
   "execution_count": null,
   "metadata": {},
   "outputs": [],
   "source": [
    "dfCheshire = df.query('LocalAuthorityDistrictname2013 == \"Cheshire East\"')\n",
    "x = dfCheshire['EducationSkillsandTrainingRank ']\n",
    "y = dfCheshire['EmploymentRank']\n",
    "scipy.stats.pearsonr(x, y)"
   ]
  },
  {
   "cell_type": "markdown",
   "metadata": {},
   "source": [
    "To get a list of all the authority district names, I use unique()."
   ]
  },
  {
   "cell_type": "code",
   "execution_count": null,
   "metadata": {},
   "outputs": [],
   "source": [
    "df['LocalAuthorityDistrictname2013'].unique()"
   ]
  },
  {
   "cell_type": "code",
   "execution_count": null,
   "metadata": {},
   "outputs": [],
   "source": [
    "dfLancashire = df.query('LocalAuthorityDistrictname2013 == \"West Lancashire\"')\n",
    "dfLancashire.describe()"
   ]
  }
 ],
 "metadata": {
  "kernelspec": {
   "display_name": "Python 3 (ipykernel)",
   "language": "python",
   "name": "python3"
  },
  "language_info": {
   "codemirror_mode": {
    "name": "ipython",
    "version": 3
   },
   "file_extension": ".py",
   "mimetype": "text/x-python",
   "name": "python",
   "nbconvert_exporter": "python",
   "pygments_lexer": "ipython3",
   "version": "3.8.5"
  }
 },
 "nbformat": 4,
 "nbformat_minor": 4
}
